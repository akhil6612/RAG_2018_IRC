{
 "cells": [
  {
   "cell_type": "code",
   "execution_count": 1,
   "metadata": {},
   "outputs": [
    {
     "ename": "ModuleNotFoundError",
     "evalue": "No module named 'langchain_huggingface'",
     "output_type": "error",
     "traceback": [
      "\u001b[1;31m---------------------------------------------------------------------------\u001b[0m",
      "\u001b[1;31mModuleNotFoundError\u001b[0m                       Traceback (most recent call last)",
      "Cell \u001b[1;32mIn[1], line 1\u001b[0m\n\u001b[1;32m----> 1\u001b[0m \u001b[38;5;28;01mfrom\u001b[39;00m \u001b[38;5;21;01mlangchain_huggingface\u001b[39;00m \u001b[38;5;28;01mimport\u001b[39;00m HuggingFaceEmbeddings\n\u001b[0;32m      2\u001b[0m \u001b[38;5;28;01mfrom\u001b[39;00m \u001b[38;5;21;01mHelper\u001b[39;00m \u001b[38;5;28;01mimport\u001b[39;00m (Chapters_Intros, generate_llama_response, ProcessText, chunk_chapters, retrieve_chunks,  load_chroma_databases, retrieve_relevant_chunks,Save_ChromaDb, retrieve_relevant_chunks_Pass_Chapters_To_BestChunks )\n",
      "\u001b[1;31mModuleNotFoundError\u001b[0m: No module named 'langchain_huggingface'"
     ]
    }
   ],
   "source": [
    "from langchain_huggingface import HuggingFaceEmbeddings\n",
    "from Helper import (Chapters_Intros, generate_llama_response, ProcessText, chunk_chapters, retrieve_chunks,  load_chroma_databases, retrieve_relevant_chunks,Save_ChromaDb, retrieve_relevant_chunks_Pass_Chapters_To_BestChunks )"
   ]
  },
  {
   "cell_type": "markdown",
   "metadata": {},
   "source": [
    "#  CONFIGURATION  #\n"
   ]
  },
  {
   "cell_type": "code",
   "execution_count": null,
   "metadata": {},
   "outputs": [],
   "source": [
    "pdf_path = \"2018_IRC_1stptg.pdf\"\n",
    "chunk_size = 800\n",
    "chunk_overlap = 150\n",
    "model_name = \"sentence-transformers/all-MiniLM-L6-v2\"\n",
    "top_k_per_chapter=5\n",
    "top_k=10\n",
    "#query = \"How do you determine the maximum gas demand and properly size gas piping\"\n",
    "query = \"what materials are acceptable for fireblocking in residential construction?\"\n"
   ]
  },
  {
   "cell_type": "code",
   "execution_count": 3,
   "metadata": {},
   "outputs": [],
   "source": [
    "\n",
    "Chapters = {\n",
    "    1:[26,34], 2:[36,52], 3:[54,112], 4:[114,159], 5:[160,197], 6:[198,383], 7:[384,407], 8:[408,454], 9:[456,470], \n",
    "    10:[472,482], 11:[484,519], 12:[520,521], 13:[522,527], 14:[528,532], 15:[534,537], 16:[538,541], 17:[542,543], \n",
    "    18:[544,547], 19:[548,549], 20:[550,551], 21:[552,557], 22:[558,559], 23:[560,561], 24:[562,640], 25:[642,643], \n",
    "    26:[644,647], 27:[648,653], 28:[654,655], 29:[656,687], 30:[688,700], 31:[702,707], 32:[708,709], 33:[710,711], \n",
    "    34:[712,719], 35:[720,724], 36:[726,736], 37:[738,745], 38:[746,750], 39:[752,779], 40:[780,785], 41:[786,788], \n",
    "    42:[790,802], 43:[804,806], 44:[808,987],\n",
    "}\n",
    "chapters_to_chunk = list(Chapters.keys())\n"
   ]
  },
  {
   "cell_type": "markdown",
   "metadata": {},
   "source": [
    "#  PROCESSING PDF  #"
   ]
  },
  {
   "cell_type": "code",
   "execution_count": 4,
   "metadata": {},
   "outputs": [
    {
     "name": "stdout",
     "output_type": "stream",
     "text": [
      " Processing PDF to extract chapter texts and tables...\n",
      " PDF processing complete.\n"
     ]
    }
   ],
   "source": [
    "print(\" Processing PDF to extract chapter texts and tables...\")\n",
    "#ProcessText(pdf_path, Chapters)\n",
    "print(\" PDF processing complete.\")"
   ]
  },
  {
   "cell_type": "markdown",
   "metadata": {},
   "source": [
    "#  CHUNKING CHAPTER TEXT  #"
   ]
  },
  {
   "cell_type": "code",
   "execution_count": 5,
   "metadata": {},
   "outputs": [
    {
     "name": "stdout",
     "output_type": "stream",
     "text": [
      " Chunking chapter texts for efficient retrieval...\n",
      " Chunking complete.\n"
     ]
    }
   ],
   "source": [
    "print(\" Chunking chapter texts for efficient retrieval...\")\n",
    "#chunk_chapters(chapters_to_chunk,type=\"text\", chunk_size=chunk_size, chunk_overlap=chunk_overlap)\n",
    "print(\" Chunking complete.\")"
   ]
  },
  {
   "cell_type": "code",
   "execution_count": 6,
   "metadata": {},
   "outputs": [
    {
     "name": "stdout",
     "output_type": "stream",
     "text": [
      " Chunking chapter Table for efficient retrieval...\n",
      "Chunking complete.\n"
     ]
    }
   ],
   "source": [
    "print(\" Chunking chapter Table for efficient retrieval...\")\n",
    "#chunk_chapters(chapters_to_chunk,type=\"table\", chunk_size=chunk_size, chunk_overlap=chunk_overlap)\n",
    "print(\"Chunking complete.\")"
   ]
  },
  {
   "cell_type": "markdown",
   "metadata": {},
   "source": [
    "##  RETRIEVING CHUNKS FROM DISK  #"
   ]
  },
  {
   "cell_type": "code",
   "execution_count": 7,
   "metadata": {},
   "outputs": [
    {
     "name": "stdout",
     "output_type": "stream",
     "text": [
      " Retrieving Text chunked data from disk...\n",
      "Retrieved chunks for 44 chapters from Pkl_Files/Text_Chunks\\800_150.\n",
      " Retrieved 44 chapters worth of chunked data.\n"
     ]
    }
   ],
   "source": [
    "print(\" Retrieving Text chunked data from disk...\")\n",
    "Retrieved_Text_Chunks = retrieve_chunks(chunk_size,chunk_overlap,\"text\")\n",
    "print(f\" Retrieved {len(Retrieved_Text_Chunks)} chapters worth of chunked data.\")"
   ]
  },
  {
   "cell_type": "code",
   "execution_count": 8,
   "metadata": {},
   "outputs": [
    {
     "name": "stdout",
     "output_type": "stream",
     "text": [
      " Retrieving Table chunked data from disk...\n",
      "Retrieved chunks for 44 chapters from Pkl_Files/Table_Chunks\\800_150.\n",
      " Retrieved 44 chapters worth of chunked data.\n"
     ]
    }
   ],
   "source": [
    "print(\" Retrieving Table chunked data from disk...\")\n",
    "Retrieved_Table_Chunks = retrieve_chunks(chunk_size, chunk_overlap,\"table\")\n",
    "print(f\" Retrieved {len(Retrieved_Table_Chunks)} chapters worth of chunked data.\")"
   ]
  },
  {
   "cell_type": "markdown",
   "metadata": {},
   "source": [
    "##  CREATING VECTOR DATABASES  #\n"
   ]
  },
  {
   "cell_type": "code",
   "execution_count": 9,
   "metadata": {},
   "outputs": [
    {
     "name": "stdout",
     "output_type": "stream",
     "text": [
      " Creating vector databases for each chapter...\n"
     ]
    },
    {
     "name": "stderr",
     "output_type": "stream",
     "text": [
      "c:\\Users\\jayas\\AppData\\Local\\Programs\\Python\\Python312\\Lib\\site-packages\\tqdm\\auto.py:21: TqdmWarning: IProgress not found. Please update jupyter and ipywidgets. See https://ipywidgets.readthedocs.io/en/stable/user_install.html\n",
      "  from .autonotebook import tqdm as notebook_tqdm\n"
     ]
    }
   ],
   "source": [
    "print(\" Creating vector databases for each chapter...\")\n",
    "Model = HuggingFaceEmbeddings(model_name=model_name)  "
   ]
  },
  {
   "cell_type": "code",
   "execution_count": 10,
   "metadata": {},
   "outputs": [],
   "source": [
    "#Text_Chunks_ChromaDb_Langchain = Save_ChromaDb(Retrieved_Text_Chunks,\"text\",Model,model_name,chunk_size,chunk_overlap)"
   ]
  },
  {
   "cell_type": "code",
   "execution_count": 11,
   "metadata": {},
   "outputs": [],
   "source": [
    "#Table_Chunks_ChromaDb_Langchain = Save_ChromaDb(Retrieved_Table_Chunks,\"table\",Model,model_name,chunk_size,chunk_overlap)"
   ]
  },
  {
   "cell_type": "markdown",
   "metadata": {},
   "source": [
    "#  LOADING SELECTED CHAPTERS FROM DATABASE  #"
   ]
  },
  {
   "cell_type": "code",
   "execution_count": null,
   "metadata": {},
   "outputs": [],
   "source": [
    "#query = \"How do you determine the maximum gas demand and properly size gas piping\"\n",
    "#query = \"What are the guardrail requirements for elevated surfaces?\"\n",
    "query = \"what materials are acceptable for fireblocking in residential construction?\"\n",
    "\n",
    "selected_chapters_UnProcessed=retrieve_relevant_chunks_Pass_Chapters_To_BestChunks(f'./ChromaDB_Query/Intro_SelectChapters',Chapters_Intros,Model,query,5)"
   ]
  },
  {
   "cell_type": "code",
   "execution_count": null,
   "metadata": {},
   "outputs": [],
   "source": [
    "selected_chapters = [doc.metadata['chapter'] for doc in selected_chapters_UnProcessed]\n",
    "print(f\" Loading selected chapters: {selected_chapters}\")\n",
    "\n",
    "SelectedChapters_Text = load_chroma_databases(model_name,\"text\",chunk_size,chunk_overlap,selected_chapters=selected_chapters)\n",
    "print(\" Selected Text chapters loaded.\")"
   ]
  },
  {
   "cell_type": "code",
   "execution_count": null,
   "metadata": {},
   "outputs": [],
   "source": [
    "SelectedChapters_Table = load_chroma_databases(model_name,\"table\",chunk_size,chunk_overlap,selected_chapters=selected_chapters)\n",
    "print(\" Selected Table chapters loaded.\")"
   ]
  },
  {
   "cell_type": "markdown",
   "metadata": {},
   "source": [
    "#  RETRIEVING RELEVANT CHUNKS  #\n"
   ]
  },
  {
   "cell_type": "code",
   "execution_count": 26,
   "metadata": {},
   "outputs": [
    {
     "name": "stdout",
     "output_type": "stream",
     "text": [
      " Retrieving relevant Text chunks for query: 'How do you determine the maximum gas demand and properly size gas piping'\n",
      "Passing to second filter\n"
     ]
    }
   ],
   "source": [
    "print(f\" Retrieving relevant Text chunks for query: '{query}'\")\n",
    "Docs_Score_Text = retrieve_relevant_chunks(query, SelectedChapters_Text, top_k_per_chapter)\n",
    "if(len(Docs_Score_Text)>5):\n",
    "    print(\"Passing to second filter\")\n",
    "    Docs_Score_Text=retrieve_relevant_chunks_Pass_Chapters_To_BestChunks('ChromaDB_Query/Text',Docs_Score_Text,Model,query,top_k)"
   ]
  },
  {
   "cell_type": "code",
   "execution_count": 27,
   "metadata": {},
   "outputs": [
    {
     "name": "stdout",
     "output_type": "stream",
     "text": [
      " Retrieving relevant Table chunks for query: 'How do you determine the maximum gas demand and properly size gas piping'\n",
      "Passing to second filter\n"
     ]
    }
   ],
   "source": [
    "print(f\" Retrieving relevant Table chunks for query: '{query}'\")\n",
    "Docs_Score_Table = retrieve_relevant_chunks(query, SelectedChapters_Table, top_k_per_chapter)\n",
    "if(len(Docs_Score_Table)>5):\n",
    "    print(\"Passing to second filter\")\n",
    "    Docs_Score_Table = retrieve_relevant_chunks_Pass_Chapters_To_BestChunks('./ChromaDB_Query/Table',Docs_Score_Table,Model,query,top_k)"
   ]
  },
  {
   "cell_type": "code",
   "execution_count": 28,
   "metadata": {},
   "outputs": [
    {
     "name": "stdout",
     "output_type": "stream",
     "text": [
      " Retrieved relevant text.\n",
      " Retrieved relevant Table.\n"
     ]
    }
   ],
   "source": [
    "Retrieved_Text = \" \".join([doc.page_content for doc in Docs_Score_Text])\n",
    "print(\" Retrieved relevant text.\")\n",
    "\n",
    "Retrieved_Table = \" \".join([doc.page_content for doc in Docs_Score_Table])\n",
    "print(\" Retrieved relevant Table.\")"
   ]
  },
  {
   "cell_type": "markdown",
   "metadata": {},
   "source": [
    "#  DISPLAYING OUTPUT  #"
   ]
  },
  {
   "cell_type": "code",
   "execution_count": 29,
   "metadata": {},
   "outputs": [
    {
     "name": "stdout",
     "output_type": "stream",
     "text": [
      "\n",
      " FINAL RETRIEVED TEXT:\n"
     ]
    }
   ],
   "source": [
    "print(\"\\n FINAL RETRIEVED TEXT:\")\n",
    "#print(Retrieved_Text)"
   ]
  },
  {
   "cell_type": "code",
   "execution_count": 30,
   "metadata": {},
   "outputs": [
    {
     "name": "stdout",
     "output_type": "stream",
     "text": [
      "\n",
      " FINAL RETRIEVED Table:\n"
     ]
    }
   ],
   "source": [
    "print(\"\\n FINAL RETRIEVED Table:\")\n",
    "#print(Retrieved_Table)"
   ]
  },
  {
   "cell_type": "code",
   "execution_count": 33,
   "metadata": {},
   "outputs": [
    {
     "name": "stdout",
     "output_type": "stream",
     "text": [
      "According  to  the  provided  content ,  Section  G 241 2  states  that :\n",
      "\n",
      " *  The  total  connected  hourly  load  shall  be  used  as  the  basis  for  pipe  sizing ,  assuming  that  all  appliances  could  be  operating  at  full  capacity  simultaneously .\n",
      " *  The  maximum  gas  demand  is  determined  by  using  this  total  connected  hourly  load .\n",
      "\n",
      " To  properly  size  gas  piping ,  you  should  follow  these  steps :\n",
      "\n",
      " 1 .  Determine  the  total  connected  hourly  load  of  all  appliances  and  devices  connected  to  the  gas  piping  system .\n",
      " 2 .  Use  this  load  as  the  basis  for  pipe  sizing ,  assuming  that  all  appliances  could  be  operating  at  full  capacity  simultaneously .\n",
      "\n",
      " This  is  stated  in  Section  G 241 3 . 4 ( 402 . 4 )  S izing  tables  and  equations :\n",
      "\n",
      " \"This  section  applies  to  piping  materials  other  than  non corr ug ated  stainless  steel  tubing .  Where  Tables  G 241 3 . 4 ( 1 )  through  G 241 3 . 4 ( 21 )  are  used  to  size  piping  or  tubing ,  the  pipe  length  shall  be  determined  in  accordance  with  Section  G 241 3 . 4 . 1 ,  G 241 3 . 4 . 2  or  G 241 3 . 4 . 3 .\"\n",
      "\n",
      " Section  G 241 3 . 4 . 1 - 3  provides  methods  for  determining  the  longest  length  of  piping  from  the  point  of  delivery  to  the  most  remote  outlet  and  sizing  gas  piping  accordingly .\n",
      "\n",
      " Please  note  that  this  information  only  applies  to  the  provided  content  and  might  not  be  applicable  in  all  scenarios  or  jurisdictions .  It  is  recommended  to  consult  relevant  codes ,  regulations ,  and  industry  standards  for  specific  guidance  on  determining  maximum  gas  demand  and  properly  sizing  gas  piping .  \n"
     ]
    }
   ],
   "source": [
    "#print(generate_llama_response(Retrieved_Text,Retrieved_Table, query))\n",
    "print(generate_llama_response(Retrieved_Text,\"NO TABLES\", query))"
   ]
  }
 ],
 "metadata": {
  "kernelspec": {
   "display_name": "Python 3",
   "language": "python",
   "name": "python3"
  },
  "language_info": {
   "codemirror_mode": {
    "name": "ipython",
    "version": 3
   },
   "file_extension": ".py",
   "mimetype": "text/x-python",
   "name": "python",
   "nbconvert_exporter": "python",
   "pygments_lexer": "ipython3",
   "version": "3.9.1"
  }
 },
 "nbformat": 4,
 "nbformat_minor": 2
}
